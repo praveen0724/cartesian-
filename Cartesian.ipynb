{
  "nbformat": 4,
  "nbformat_minor": 0,
  "metadata": {
    "colab": {
      "name": "Cartesian.ipynb",
      "provenance": [],
      "collapsed_sections": []
    },
    "kernelspec": {
      "name": "python3",
      "display_name": "Python 3"
    },
    "language_info": {
      "name": "python"
    }
  },
  "cells": [
    {
      "cell_type": "markdown",
      "source": [
        "#QUESTION 1"
      ],
      "metadata": {
        "id": "sBPdSK_Ox-DP"
      }
    },
    {
      "cell_type": "markdown",
      "source": [
        "#\tPrints each word in reverse.  "
      ],
      "metadata": {
        "id": "eg-YXsj4yDFk"
      }
    },
    {
      "cell_type": "code",
      "execution_count": 3,
      "metadata": {
        "colab": {
          "base_uri": "https://localhost:8080/"
        },
        "id": "HpepJFuJoHol",
        "outputId": "a4f17368-885b-4a93-da81-1ee3e04a4dbd"
      },
      "outputs": [
        {
          "output_type": "stream",
          "name": "stdout",
          "text": [
            "europe united a of era this in Internet the for vision positive a advance to partners declaration among commitment political a represents declaration This\n"
          ]
        }
      ],
      "source": [
        "#String Reverse \n",
        "\n",
        "string = \"This declaration represents a political commitment among declaration partners to advance a positive vision for the Internet in this era of a united europe\"\n",
        "\n",
        "sen = string.split()\n",
        "\n",
        "rev = list(reversed(sen))\n",
        "jon_rev =\" \".join(rev)\n",
        "\n",
        "print(jon_rev)"
      ]
    },
    {
      "cell_type": "markdown",
      "source": [
        "#QUESTION 2"
      ],
      "metadata": {
        "id": "G16P4MnzyTBH"
      }
    },
    {
      "cell_type": "markdown",
      "source": [
        "# Prints Top 2 occurring words in sorted order. The words that have occurred most of the time."
      ],
      "metadata": {
        "id": "4ZmObr2oyYil"
      }
    },
    {
      "cell_type": "code",
      "source": [
        "from collections import Counter\n",
        "split_it = jon_rev.split()\n",
        "Counter = Counter(split_it)\n",
        "most_occur = Counter.most_common(2)\n",
        "print(most_occur)"
      ],
      "metadata": {
        "colab": {
          "base_uri": "https://localhost:8080/"
        },
        "id": "9L62O3FHyXyH",
        "outputId": "cf30937c-d9df-4146-9887-8dd37f592b4b"
      },
      "execution_count": 4,
      "outputs": [
        {
          "output_type": "stream",
          "name": "stdout",
          "text": [
            "[('a', 3), ('declaration', 2)]\n"
          ]
        }
      ]
    },
    {
      "cell_type": "code",
      "source": [],
      "metadata": {
        "id": "bqSE1V6w3sX2"
      },
      "execution_count": null,
      "outputs": []
    }
  ]
}